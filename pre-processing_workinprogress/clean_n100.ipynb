{
 "cells": [
  {
   "cell_type": "code",
   "execution_count": 1,
   "metadata": {
    "collapsed": true
   },
   "outputs": [],
   "source": [
    "import pandas as pd\n",
    "import nltk\n",
    "import string\n",
    "from nltk import wordpunct_tokenize\n",
    "from nltk.corpus import stopwords\n",
    "from nltk.tokenize import RegexpTokenizer\n",
    "from nltk.stem import WordNetLemmatizer\n",
    "from nltk.stem.porter import PorterStemmer\n",
    "import json\n",
    "import os\n",
    "import spacy"
   ]
  },
  {
   "cell_type": "code",
   "execution_count": 2,
   "outputs": [],
   "source": [
    "nlp = spacy.load(\"en_core_web_sm\")"
   ],
   "metadata": {
    "collapsed": false,
    "pycharm": {
     "name": "#%%\n"
    }
   }
  },
  {
   "cell_type": "code",
   "execution_count": 3,
   "outputs": [],
   "source": [
    "def parse_paper_json(paper_json):\n",
    "    \"\"\"\n",
    "    Builds and returns a dict containing the paper_id, title, and\n",
    "    body_text (joined sections) for further processing\n",
    "\n",
    "    :param paper_json: loaded JSON object\n",
    "    :return: dict containing targeted information\n",
    "    \"\"\"\n",
    "    return \\\n",
    "        {\n",
    "            'paper_id':     paper_json['paper_id'],\n",
    "            'title':        paper_json['metadata']['title'],\n",
    "            'body_text':    \" \".join([x['text'] for x in paper_json['body_text']])\n",
    "        }\n",
    "\n",
    "\n",
    "def text_lang_likely(text):\n",
    "    \"\"\"\n",
    "    Compares tokenized text to set of stopwords for each language contained\n",
    "    within the NLTK stopwords corpus and outputs the likely language based on\n",
    "    the number of common words.\n",
    "\n",
    "    Adapted from http://blog.alejandronolla.com/2013/05/15/detecting-text-language-with-python-and-nltk/\n",
    "\n",
    "    :param text: body of text\n",
    "    :return: most likely language of text\n",
    "    \"\"\"\n",
    "    wp_words = set(wd.lower() for wd in wordpunct_tokenize(text))\n",
    "    lang_scores = {}\n",
    "    for lang in stopwords.fileids():\n",
    "        sw_set = set(stopwords.words(lang))\n",
    "        intersection = wp_words & sw_set\n",
    "        lang_scores[lang] = len(intersection)\n",
    "    return max(lang_scores, key=lang_scores.get) # return language with highest score"
   ],
   "metadata": {
    "collapsed": false,
    "pycharm": {
     "name": "#%%\n"
    }
   }
  },
  {
   "cell_type": "code",
   "execution_count": 4,
   "outputs": [],
   "source": [
    "n100_base = '../update1_explore/n100_files'\n",
    "n100_paths = [f'{n100_base}/{filename}' for filename in os.listdir(n100_base)]\n",
    "\n",
    "papers = []\n",
    "for path in n100_paths:\n",
    "    with open(path, 'r') as f:\n",
    "        data = json.load(f)\n",
    "        data_dict = parse_paper_json(data)\n",
    "        data_dict['language'] = text_lang_likely(data_dict['body_text'])\n",
    "\n",
    "        papers.append(data_dict)"
   ],
   "metadata": {
    "collapsed": false,
    "pycharm": {
     "name": "#%%\n"
    }
   }
  },
  {
   "cell_type": "code",
   "execution_count": 5,
   "outputs": [
    {
     "data": {
      "text/plain": "                                    paper_id  \\\n5   6f545900ad20d4a7b92cab9581d507cfca3264fb   \n51  e9be227f3e9abfdbb2a22312d4a69d8160704590   \n64  d8b3e15a543a14c8412496a26fea778c0fa8cd9a   \n\n                                                title  \\\n5   Journal Pre-proof CUIDAR AL QUE CUIDA: EL IMPA...   \n51  Journal Pre-proof Paniculitis eosinofílica sec...   \n64  9. Globalizzazione e salute: nuove prospettive...   \n\n                                            body_text language  \n5   noticias en prensa y en las redes sociales. En...  spanish  \n51  Sección de Dermatología, Hospital Universitari...  spanish  \n64  Il binomio globalizzazione/salute salta usualm...  italian  ",
      "text/html": "<div>\n<style scoped>\n    .dataframe tbody tr th:only-of-type {\n        vertical-align: middle;\n    }\n\n    .dataframe tbody tr th {\n        vertical-align: top;\n    }\n\n    .dataframe thead th {\n        text-align: right;\n    }\n</style>\n<table border=\"1\" class=\"dataframe\">\n  <thead>\n    <tr style=\"text-align: right;\">\n      <th></th>\n      <th>paper_id</th>\n      <th>title</th>\n      <th>body_text</th>\n      <th>language</th>\n    </tr>\n  </thead>\n  <tbody>\n    <tr>\n      <th>5</th>\n      <td>6f545900ad20d4a7b92cab9581d507cfca3264fb</td>\n      <td>Journal Pre-proof CUIDAR AL QUE CUIDA: EL IMPA...</td>\n      <td>noticias en prensa y en las redes sociales. En...</td>\n      <td>spanish</td>\n    </tr>\n    <tr>\n      <th>51</th>\n      <td>e9be227f3e9abfdbb2a22312d4a69d8160704590</td>\n      <td>Journal Pre-proof Paniculitis eosinofílica sec...</td>\n      <td>Sección de Dermatología, Hospital Universitari...</td>\n      <td>spanish</td>\n    </tr>\n    <tr>\n      <th>64</th>\n      <td>d8b3e15a543a14c8412496a26fea778c0fa8cd9a</td>\n      <td>9. Globalizzazione e salute: nuove prospettive...</td>\n      <td>Il binomio globalizzazione/salute salta usualm...</td>\n      <td>italian</td>\n    </tr>\n  </tbody>\n</table>\n</div>"
     },
     "execution_count": 5,
     "metadata": {},
     "output_type": "execute_result"
    }
   ],
   "source": [
    "df = pd.DataFrame(papers)\n",
    "\n",
    "df[df['language'] != 'english']"
   ],
   "metadata": {
    "collapsed": false,
    "pycharm": {
     "name": "#%%\n"
    }
   }
  }
 ],
 "metadata": {
  "kernelspec": {
   "display_name": "Python 3",
   "language": "python",
   "name": "python3"
  },
  "language_info": {
   "codemirror_mode": {
    "name": "ipython",
    "version": 2
   },
   "file_extension": ".py",
   "mimetype": "text/x-python",
   "name": "python",
   "nbconvert_exporter": "python",
   "pygments_lexer": "ipython2",
   "version": "2.7.6"
  }
 },
 "nbformat": 4,
 "nbformat_minor": 0
}